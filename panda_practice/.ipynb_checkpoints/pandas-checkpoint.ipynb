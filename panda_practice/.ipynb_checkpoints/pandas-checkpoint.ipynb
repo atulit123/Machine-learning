{
 "cells": [
  {
   "cell_type": "code",
   "execution_count": 1,
   "metadata": {
    "collapsed": true
   },
   "outputs": [],
   "source": [
    "import pandas as pd\n",
    "import numpy as np\n",
    "import matplotlib.pyplot as plt"
   ]
  },
  {
   "cell_type": "code",
   "execution_count": 2,
   "metadata": {
    "collapsed": false
   },
   "outputs": [
    {
     "name": "stdout",
     "output_type": "stream",
     "text": [
      "nan\n",
      "0      0\n",
      "1      1\n",
      "2      w\n",
      "3      2\n",
      "4      2\n",
      "5      3\n",
      "6      4\n",
      "7      5\n",
      "8    NaN\n",
      "dtype: object\n"
     ]
    }
   ],
   "source": [
    "##object creation\n",
    "s=pd.Series([0,1,'w',2,2,3,4,5,np.nan])\n",
    "print s[8]\n",
    "print s"
   ]
  },
  {
   "cell_type": "code",
   "execution_count": 3,
   "metadata": {
    "collapsed": false
   },
   "outputs": [
    {
     "name": "stdout",
     "output_type": "stream",
     "text": [
      "2013-01-01 00:00:00\n",
      "                   a         b         c         d\n",
      "2013-01-01 -1.150656  0.828343  1.655891  1.192120\n",
      "2013-01-02 -0.570243  1.349914 -1.227829  0.281959\n",
      "2013-01-03  0.946194  0.051640 -0.420144 -0.716718\n",
      "2013-01-04  0.056751 -0.009558 -0.418478  0.979505\n",
      "2013-01-05 -2.260018 -0.709867 -0.891821  0.541225\n",
      "2013-01-06 -2.298837  1.111650  0.748999  0.200979\n",
      "2013-01-07 -0.998211  2.562509  0.164490 -0.553440\n",
      "2013-01-08  0.412764 -0.062489  0.331883 -0.774217\n"
     ]
    }
   ],
   "source": [
    "##creating Frame object\n",
    "dates=pd.date_range('20130101',periods=8)\n",
    "print dates[0]\n",
    "df=pd.DataFrame(np.random.randn(8,4),index=dates,columns=list(\"abcd\"))\n",
    "print df"
   ]
  },
  {
   "cell_type": "code",
   "execution_count": 4,
   "metadata": {
    "collapsed": false
   },
   "outputs": [
    {
     "name": "stdout",
     "output_type": "stream",
     "text": [
      "   A  B  C  D\n",
      "0  1  2  0  1\n",
      "1  1  2  1  2\n",
      "2  1  2  2  2\n",
      "3  1  2  3  2\n"
     ]
    }
   ],
   "source": [
    "df2=pd.DataFrame({\n",
    "        \"A\":1,\n",
    "        \"B\":2,\n",
    "        \"C\":range(4),\n",
    "        \"D\":[1,2,2,2]\n",
    "    })\n",
    "print df2"
   ]
  },
  {
   "cell_type": "code",
   "execution_count": 5,
   "metadata": {
    "collapsed": false
   },
   "outputs": [
    {
     "ename": "SyntaxError",
     "evalue": "invalid syntax (<ipython-input-5-8b5fccb86f33>, line 1)",
     "output_type": "error",
     "traceback": [
      "\u001b[0;36m  File \u001b[0;32m\"<ipython-input-5-8b5fccb86f33>\"\u001b[0;36m, line \u001b[0;32m1\u001b[0m\n\u001b[0;31m    df.<TAB>\u001b[0m\n\u001b[0m       ^\u001b[0m\n\u001b[0;31mSyntaxError\u001b[0m\u001b[0;31m:\u001b[0m invalid syntax\n"
     ]
    }
   ],
   "source": [
    "df.<TAB>"
   ]
  },
  {
   "cell_type": "code",
   "execution_count": 6,
   "metadata": {
    "collapsed": true
   },
   "outputs": [],
   "source": [
    "%config IPCompleter.greedy=True"
   ]
  },
  {
   "cell_type": "code",
   "execution_count": 7,
   "metadata": {
    "collapsed": false
   },
   "outputs": [
    {
     "data": {
      "text/html": [
       "<div>\n",
       "<table border=\"1\" class=\"dataframe\">\n",
       "  <thead>\n",
       "    <tr style=\"text-align: right;\">\n",
       "      <th></th>\n",
       "      <th>a</th>\n",
       "      <th>b</th>\n",
       "      <th>c</th>\n",
       "      <th>d</th>\n",
       "    </tr>\n",
       "  </thead>\n",
       "  <tbody>\n",
       "    <tr>\n",
       "      <th>2013-01-01</th>\n",
       "      <td>-1.150656</td>\n",
       "      <td>0.828343</td>\n",
       "      <td>1.655891</td>\n",
       "      <td>1.192120</td>\n",
       "    </tr>\n",
       "    <tr>\n",
       "      <th>2013-01-02</th>\n",
       "      <td>-0.570243</td>\n",
       "      <td>1.349914</td>\n",
       "      <td>-1.227829</td>\n",
       "      <td>0.281959</td>\n",
       "    </tr>\n",
       "    <tr>\n",
       "      <th>2013-01-03</th>\n",
       "      <td>0.946194</td>\n",
       "      <td>0.051640</td>\n",
       "      <td>-0.420144</td>\n",
       "      <td>-0.716718</td>\n",
       "    </tr>\n",
       "    <tr>\n",
       "      <th>2013-01-04</th>\n",
       "      <td>0.056751</td>\n",
       "      <td>-0.009558</td>\n",
       "      <td>-0.418478</td>\n",
       "      <td>0.979505</td>\n",
       "    </tr>\n",
       "    <tr>\n",
       "      <th>2013-01-05</th>\n",
       "      <td>-2.260018</td>\n",
       "      <td>-0.709867</td>\n",
       "      <td>-0.891821</td>\n",
       "      <td>0.541225</td>\n",
       "    </tr>\n",
       "  </tbody>\n",
       "</table>\n",
       "</div>"
      ],
      "text/plain": [
       "                   a         b         c         d\n",
       "2013-01-01 -1.150656  0.828343  1.655891  1.192120\n",
       "2013-01-02 -0.570243  1.349914 -1.227829  0.281959\n",
       "2013-01-03  0.946194  0.051640 -0.420144 -0.716718\n",
       "2013-01-04  0.056751 -0.009558 -0.418478  0.979505\n",
       "2013-01-05 -2.260018 -0.709867 -0.891821  0.541225"
      ]
     },
     "execution_count": 7,
     "metadata": {},
     "output_type": "execute_result"
    }
   ],
   "source": [
    "df.head()"
   ]
  },
  {
   "cell_type": "code",
   "execution_count": 8,
   "metadata": {
    "collapsed": false
   },
   "outputs": [
    {
     "data": {
      "text/html": [
       "<div>\n",
       "<table border=\"1\" class=\"dataframe\">\n",
       "  <thead>\n",
       "    <tr style=\"text-align: right;\">\n",
       "      <th></th>\n",
       "      <th>a</th>\n",
       "      <th>b</th>\n",
       "      <th>c</th>\n",
       "      <th>d</th>\n",
       "    </tr>\n",
       "  </thead>\n",
       "  <tbody>\n",
       "    <tr>\n",
       "      <th>2013-01-04</th>\n",
       "      <td>0.056751</td>\n",
       "      <td>-0.009558</td>\n",
       "      <td>-0.418478</td>\n",
       "      <td>0.979505</td>\n",
       "    </tr>\n",
       "    <tr>\n",
       "      <th>2013-01-05</th>\n",
       "      <td>-2.260018</td>\n",
       "      <td>-0.709867</td>\n",
       "      <td>-0.891821</td>\n",
       "      <td>0.541225</td>\n",
       "    </tr>\n",
       "    <tr>\n",
       "      <th>2013-01-06</th>\n",
       "      <td>-2.298837</td>\n",
       "      <td>1.111650</td>\n",
       "      <td>0.748999</td>\n",
       "      <td>0.200979</td>\n",
       "    </tr>\n",
       "    <tr>\n",
       "      <th>2013-01-07</th>\n",
       "      <td>-0.998211</td>\n",
       "      <td>2.562509</td>\n",
       "      <td>0.164490</td>\n",
       "      <td>-0.553440</td>\n",
       "    </tr>\n",
       "    <tr>\n",
       "      <th>2013-01-08</th>\n",
       "      <td>0.412764</td>\n",
       "      <td>-0.062489</td>\n",
       "      <td>0.331883</td>\n",
       "      <td>-0.774217</td>\n",
       "    </tr>\n",
       "  </tbody>\n",
       "</table>\n",
       "</div>"
      ],
      "text/plain": [
       "                   a         b         c         d\n",
       "2013-01-04  0.056751 -0.009558 -0.418478  0.979505\n",
       "2013-01-05 -2.260018 -0.709867 -0.891821  0.541225\n",
       "2013-01-06 -2.298837  1.111650  0.748999  0.200979\n",
       "2013-01-07 -0.998211  2.562509  0.164490 -0.553440\n",
       "2013-01-08  0.412764 -0.062489  0.331883 -0.774217"
      ]
     },
     "execution_count": 8,
     "metadata": {},
     "output_type": "execute_result"
    }
   ],
   "source": [
    "df.tail()"
   ]
  },
  {
   "cell_type": "code",
   "execution_count": 9,
   "metadata": {
    "collapsed": false
   },
   "outputs": [
    {
     "name": "stdout",
     "output_type": "stream",
     "text": [
      "DatetimeIndex(['2013-01-01', '2013-01-02', '2013-01-03', '2013-01-04',\n",
      "               '2013-01-05', '2013-01-06', '2013-01-07', '2013-01-08'],\n",
      "              dtype='datetime64[ns]', freq='D')\n",
      "Index([u'a', u'b', u'c', u'd'], dtype='object')\n",
      "[[-1.15065585  0.82834273  1.65589116  1.19212002]\n",
      " [-0.57024341  1.34991407 -1.22782911  0.28195924]\n",
      " [ 0.94619369  0.0516404  -0.42014431 -0.71671838]\n",
      " [ 0.05675061 -0.00955848 -0.41847797  0.97950494]\n",
      " [-2.26001798 -0.70986729 -0.8918214   0.5412254 ]\n",
      " [-2.29883664  1.11164988  0.74899909  0.20097851]\n",
      " [-0.99821088  2.56250891  0.16448973 -0.55344017]\n",
      " [ 0.4127643  -0.06248889  0.33188253 -0.77421713]]\n",
      "         A    B         C     D\n",
      "count  4.0  4.0  4.000000  4.00\n",
      "mean   1.0  2.0  1.500000  1.75\n",
      "std    0.0  0.0  1.290994  0.50\n",
      "min    1.0  2.0  0.000000  1.00\n",
      "25%    1.0  2.0  0.750000  1.75\n",
      "50%    1.0  2.0  1.500000  2.00\n",
      "75%    1.0  2.0  2.250000  2.00\n",
      "max    1.0  2.0  3.000000  2.00\n"
     ]
    }
   ],
   "source": [
    "print df.index\n",
    "print df.columns\n",
    "print df.values\n",
    "print df2.describe()"
   ]
  },
  {
   "cell_type": "code",
   "execution_count": 10,
   "metadata": {
    "collapsed": false
   },
   "outputs": [
    {
     "name": "stdout",
     "output_type": "stream",
     "text": [
      "   0  1  2  3\n",
      "A  1  1  1  1\n",
      "B  2  2  2  2\n",
      "C  0  1  2  3\n",
      "D  1  2  2  2\n"
     ]
    }
   ],
   "source": [
    "##transpose\n",
    "print df2.T"
   ]
  },
  {
   "cell_type": "code",
   "execution_count": 11,
   "metadata": {
    "collapsed": false
   },
   "outputs": [
    {
     "data": {
      "text/html": [
       "<div>\n",
       "<table border=\"1\" class=\"dataframe\">\n",
       "  <thead>\n",
       "    <tr style=\"text-align: right;\">\n",
       "      <th></th>\n",
       "      <th>D</th>\n",
       "      <th>C</th>\n",
       "      <th>B</th>\n",
       "      <th>A</th>\n",
       "    </tr>\n",
       "  </thead>\n",
       "  <tbody>\n",
       "    <tr>\n",
       "      <th>0</th>\n",
       "      <td>1</td>\n",
       "      <td>0</td>\n",
       "      <td>2</td>\n",
       "      <td>1</td>\n",
       "    </tr>\n",
       "    <tr>\n",
       "      <th>1</th>\n",
       "      <td>2</td>\n",
       "      <td>1</td>\n",
       "      <td>2</td>\n",
       "      <td>1</td>\n",
       "    </tr>\n",
       "    <tr>\n",
       "      <th>2</th>\n",
       "      <td>2</td>\n",
       "      <td>2</td>\n",
       "      <td>2</td>\n",
       "      <td>1</td>\n",
       "    </tr>\n",
       "    <tr>\n",
       "      <th>3</th>\n",
       "      <td>2</td>\n",
       "      <td>3</td>\n",
       "      <td>2</td>\n",
       "      <td>1</td>\n",
       "    </tr>\n",
       "  </tbody>\n",
       "</table>\n",
       "</div>"
      ],
      "text/plain": [
       "   D  C  B  A\n",
       "0  1  0  2  1\n",
       "1  2  1  2  1\n",
       "2  2  2  2  1\n",
       "3  2  3  2  1"
      ]
     },
     "execution_count": 11,
     "metadata": {},
     "output_type": "execute_result"
    }
   ],
   "source": [
    "df2.sort_index(axis=1,ascending=False)"
   ]
  },
  {
   "cell_type": "code",
   "execution_count": 12,
   "metadata": {
    "collapsed": false
   },
   "outputs": [
    {
     "data": {
      "text/html": [
       "<div>\n",
       "<table border=\"1\" class=\"dataframe\">\n",
       "  <thead>\n",
       "    <tr style=\"text-align: right;\">\n",
       "      <th></th>\n",
       "      <th>A</th>\n",
       "      <th>B</th>\n",
       "      <th>C</th>\n",
       "      <th>D</th>\n",
       "    </tr>\n",
       "  </thead>\n",
       "  <tbody>\n",
       "    <tr>\n",
       "      <th>3</th>\n",
       "      <td>1</td>\n",
       "      <td>2</td>\n",
       "      <td>3</td>\n",
       "      <td>2</td>\n",
       "    </tr>\n",
       "    <tr>\n",
       "      <th>2</th>\n",
       "      <td>1</td>\n",
       "      <td>2</td>\n",
       "      <td>2</td>\n",
       "      <td>2</td>\n",
       "    </tr>\n",
       "    <tr>\n",
       "      <th>1</th>\n",
       "      <td>1</td>\n",
       "      <td>2</td>\n",
       "      <td>1</td>\n",
       "      <td>2</td>\n",
       "    </tr>\n",
       "    <tr>\n",
       "      <th>0</th>\n",
       "      <td>1</td>\n",
       "      <td>2</td>\n",
       "      <td>0</td>\n",
       "      <td>1</td>\n",
       "    </tr>\n",
       "  </tbody>\n",
       "</table>\n",
       "</div>"
      ],
      "text/plain": [
       "   A  B  C  D\n",
       "3  1  2  3  2\n",
       "2  1  2  2  2\n",
       "1  1  2  1  2\n",
       "0  1  2  0  1"
      ]
     },
     "execution_count": 12,
     "metadata": {},
     "output_type": "execute_result"
    }
   ],
   "source": [
    "df2.sort_values(by=\"C\",ascending=False)"
   ]
  },
  {
   "cell_type": "code",
   "execution_count": 13,
   "metadata": {
    "collapsed": false
   },
   "outputs": [
    {
     "name": "stdout",
     "output_type": "stream",
     "text": [
      "0    1\n",
      "1    1\n",
      "2    1\n",
      "3    1\n",
      "Name: A, dtype: int64\n"
     ]
    }
   ],
   "source": [
    "##selection\n",
    "print df2[\"A\"]"
   ]
  },
  {
   "cell_type": "code",
   "execution_count": 14,
   "metadata": {
    "collapsed": false
   },
   "outputs": [
    {
     "data": {
      "text/html": [
       "<div>\n",
       "<table border=\"1\" class=\"dataframe\">\n",
       "  <thead>\n",
       "    <tr style=\"text-align: right;\">\n",
       "      <th></th>\n",
       "      <th>A</th>\n",
       "      <th>B</th>\n",
       "      <th>C</th>\n",
       "      <th>D</th>\n",
       "    </tr>\n",
       "  </thead>\n",
       "  <tbody>\n",
       "    <tr>\n",
       "      <th>0</th>\n",
       "      <td>1</td>\n",
       "      <td>2</td>\n",
       "      <td>0</td>\n",
       "      <td>1</td>\n",
       "    </tr>\n",
       "    <tr>\n",
       "      <th>1</th>\n",
       "      <td>1</td>\n",
       "      <td>2</td>\n",
       "      <td>1</td>\n",
       "      <td>2</td>\n",
       "    </tr>\n",
       "    <tr>\n",
       "      <th>2</th>\n",
       "      <td>1</td>\n",
       "      <td>2</td>\n",
       "      <td>2</td>\n",
       "      <td>2</td>\n",
       "    </tr>\n",
       "  </tbody>\n",
       "</table>\n",
       "</div>"
      ],
      "text/plain": [
       "   A  B  C  D\n",
       "0  1  2  0  1\n",
       "1  1  2  1  2\n",
       "2  1  2  2  2"
      ]
     },
     "execution_count": 14,
     "metadata": {},
     "output_type": "execute_result"
    }
   ],
   "source": [
    "df2[0:3]"
   ]
  },
  {
   "cell_type": "code",
   "execution_count": 15,
   "metadata": {
    "collapsed": false
   },
   "outputs": [
    {
     "data": {
      "text/html": [
       "<div>\n",
       "<table border=\"1\" class=\"dataframe\">\n",
       "  <thead>\n",
       "    <tr style=\"text-align: right;\">\n",
       "      <th></th>\n",
       "      <th>a</th>\n",
       "      <th>b</th>\n",
       "      <th>c</th>\n",
       "      <th>d</th>\n",
       "    </tr>\n",
       "  </thead>\n",
       "  <tbody>\n",
       "    <tr>\n",
       "      <th>2013-01-01</th>\n",
       "      <td>-1.150656</td>\n",
       "      <td>0.828343</td>\n",
       "      <td>1.655891</td>\n",
       "      <td>1.192120</td>\n",
       "    </tr>\n",
       "    <tr>\n",
       "      <th>2013-01-02</th>\n",
       "      <td>-0.570243</td>\n",
       "      <td>1.349914</td>\n",
       "      <td>-1.227829</td>\n",
       "      <td>0.281959</td>\n",
       "    </tr>\n",
       "  </tbody>\n",
       "</table>\n",
       "</div>"
      ],
      "text/plain": [
       "                   a         b         c         d\n",
       "2013-01-01 -1.150656  0.828343  1.655891  1.192120\n",
       "2013-01-02 -0.570243  1.349914 -1.227829  0.281959"
      ]
     },
     "execution_count": 15,
     "metadata": {},
     "output_type": "execute_result"
    }
   ],
   "source": [
    "df[0:2]"
   ]
  },
  {
   "cell_type": "code",
   "execution_count": 16,
   "metadata": {
    "collapsed": false
   },
   "outputs": [
    {
     "data": {
      "text/html": [
       "<div>\n",
       "<table border=\"1\" class=\"dataframe\">\n",
       "  <thead>\n",
       "    <tr style=\"text-align: right;\">\n",
       "      <th></th>\n",
       "      <th>a</th>\n",
       "      <th>b</th>\n",
       "      <th>c</th>\n",
       "      <th>d</th>\n",
       "    </tr>\n",
       "  </thead>\n",
       "  <tbody>\n",
       "    <tr>\n",
       "      <th>2013-01-01</th>\n",
       "      <td>-1.150656</td>\n",
       "      <td>0.828343</td>\n",
       "      <td>1.655891</td>\n",
       "      <td>1.192120</td>\n",
       "    </tr>\n",
       "    <tr>\n",
       "      <th>2013-01-02</th>\n",
       "      <td>-0.570243</td>\n",
       "      <td>1.349914</td>\n",
       "      <td>-1.227829</td>\n",
       "      <td>0.281959</td>\n",
       "    </tr>\n",
       "    <tr>\n",
       "      <th>2013-01-03</th>\n",
       "      <td>0.946194</td>\n",
       "      <td>0.051640</td>\n",
       "      <td>-0.420144</td>\n",
       "      <td>-0.716718</td>\n",
       "    </tr>\n",
       "    <tr>\n",
       "      <th>2013-01-04</th>\n",
       "      <td>0.056751</td>\n",
       "      <td>-0.009558</td>\n",
       "      <td>-0.418478</td>\n",
       "      <td>0.979505</td>\n",
       "    </tr>\n",
       "  </tbody>\n",
       "</table>\n",
       "</div>"
      ],
      "text/plain": [
       "                   a         b         c         d\n",
       "2013-01-01 -1.150656  0.828343  1.655891  1.192120\n",
       "2013-01-02 -0.570243  1.349914 -1.227829  0.281959\n",
       "2013-01-03  0.946194  0.051640 -0.420144 -0.716718\n",
       "2013-01-04  0.056751 -0.009558 -0.418478  0.979505"
      ]
     },
     "execution_count": 16,
     "metadata": {},
     "output_type": "execute_result"
    }
   ],
   "source": [
    "df[dates[0]:dates[3]]"
   ]
  },
  {
   "cell_type": "code",
   "execution_count": 17,
   "metadata": {
    "collapsed": false
   },
   "outputs": [
    {
     "data": {
      "text/plain": [
       "a   -1.150656\n",
       "b    0.828343\n",
       "c    1.655891\n",
       "d    1.192120\n",
       "Name: 2013-01-01 00:00:00, dtype: float64"
      ]
     },
     "execution_count": 17,
     "metadata": {},
     "output_type": "execute_result"
    }
   ],
   "source": [
    "df.loc[dates[0]]"
   ]
  },
  {
   "cell_type": "code",
   "execution_count": 18,
   "metadata": {
    "collapsed": false
   },
   "outputs": [
    {
     "data": {
      "text/html": [
       "<div>\n",
       "<table border=\"1\" class=\"dataframe\">\n",
       "  <thead>\n",
       "    <tr style=\"text-align: right;\">\n",
       "      <th></th>\n",
       "      <th>a</th>\n",
       "      <th>b</th>\n",
       "      <th>d</th>\n",
       "    </tr>\n",
       "  </thead>\n",
       "  <tbody>\n",
       "    <tr>\n",
       "      <th>2013-01-01</th>\n",
       "      <td>-1.150656</td>\n",
       "      <td>0.828343</td>\n",
       "      <td>1.192120</td>\n",
       "    </tr>\n",
       "    <tr>\n",
       "      <th>2013-01-02</th>\n",
       "      <td>-0.570243</td>\n",
       "      <td>1.349914</td>\n",
       "      <td>0.281959</td>\n",
       "    </tr>\n",
       "    <tr>\n",
       "      <th>2013-01-03</th>\n",
       "      <td>0.946194</td>\n",
       "      <td>0.051640</td>\n",
       "      <td>-0.716718</td>\n",
       "    </tr>\n",
       "    <tr>\n",
       "      <th>2013-01-04</th>\n",
       "      <td>0.056751</td>\n",
       "      <td>-0.009558</td>\n",
       "      <td>0.979505</td>\n",
       "    </tr>\n",
       "  </tbody>\n",
       "</table>\n",
       "</div>"
      ],
      "text/plain": [
       "                   a         b         d\n",
       "2013-01-01 -1.150656  0.828343  1.192120\n",
       "2013-01-02 -0.570243  1.349914  0.281959\n",
       "2013-01-03  0.946194  0.051640 -0.716718\n",
       "2013-01-04  0.056751 -0.009558  0.979505"
      ]
     },
     "execution_count": 18,
     "metadata": {},
     "output_type": "execute_result"
    }
   ],
   "source": [
    "df.loc[dates[0]:dates[3],['a','b','d']]"
   ]
  },
  {
   "cell_type": "code",
   "execution_count": 19,
   "metadata": {
    "collapsed": false
   },
   "outputs": [
    {
     "data": {
      "text/plain": [
       "-1.1506558537533409"
      ]
     },
     "execution_count": 19,
     "metadata": {},
     "output_type": "execute_result"
    }
   ],
   "source": [
    "df.loc[dates[0],'a']\n",
    "df.at[dates[0],'a']"
   ]
  },
  {
   "cell_type": "code",
   "execution_count": 20,
   "metadata": {
    "collapsed": false
   },
   "outputs": [
    {
     "data": {
      "text/html": [
       "<div>\n",
       "<table border=\"1\" class=\"dataframe\">\n",
       "  <thead>\n",
       "    <tr style=\"text-align: right;\">\n",
       "      <th></th>\n",
       "      <th>b</th>\n",
       "      <th>c</th>\n",
       "    </tr>\n",
       "  </thead>\n",
       "  <tbody>\n",
       "    <tr>\n",
       "      <th>2013-01-01</th>\n",
       "      <td>0.828343</td>\n",
       "      <td>1.655891</td>\n",
       "    </tr>\n",
       "    <tr>\n",
       "      <th>2013-01-02</th>\n",
       "      <td>1.349914</td>\n",
       "      <td>-1.227829</td>\n",
       "    </tr>\n",
       "    <tr>\n",
       "      <th>2013-01-03</th>\n",
       "      <td>0.051640</td>\n",
       "      <td>-0.420144</td>\n",
       "    </tr>\n",
       "  </tbody>\n",
       "</table>\n",
       "</div>"
      ],
      "text/plain": [
       "                   b         c\n",
       "2013-01-01  0.828343  1.655891\n",
       "2013-01-02  1.349914 -1.227829\n",
       "2013-01-03  0.051640 -0.420144"
      ]
     },
     "execution_count": 20,
     "metadata": {},
     "output_type": "execute_result"
    }
   ],
   "source": [
    "##using ilocation\n",
    "df.iloc[0:3,1:3]"
   ]
  },
  {
   "cell_type": "code",
   "execution_count": 21,
   "metadata": {
    "collapsed": false
   },
   "outputs": [
    {
     "data": {
      "text/plain": [
       "-1.1506558537533409"
      ]
     },
     "execution_count": 21,
     "metadata": {},
     "output_type": "execute_result"
    }
   ],
   "source": [
    "df.iloc[0,0]"
   ]
  },
  {
   "cell_type": "code",
   "execution_count": 22,
   "metadata": {
    "collapsed": false
   },
   "outputs": [
    {
     "data": {
      "text/html": [
       "<div>\n",
       "<table border=\"1\" class=\"dataframe\">\n",
       "  <thead>\n",
       "    <tr style=\"text-align: right;\">\n",
       "      <th></th>\n",
       "      <th>b</th>\n",
       "      <th>c</th>\n",
       "      <th>d</th>\n",
       "    </tr>\n",
       "  </thead>\n",
       "  <tbody>\n",
       "    <tr>\n",
       "      <th>2013-01-01</th>\n",
       "      <td>0.828343</td>\n",
       "      <td>1.655891</td>\n",
       "      <td>1.192120</td>\n",
       "    </tr>\n",
       "    <tr>\n",
       "      <th>2013-01-03</th>\n",
       "      <td>0.051640</td>\n",
       "      <td>-0.420144</td>\n",
       "      <td>-0.716718</td>\n",
       "    </tr>\n",
       "    <tr>\n",
       "      <th>2013-01-04</th>\n",
       "      <td>-0.009558</td>\n",
       "      <td>-0.418478</td>\n",
       "      <td>0.979505</td>\n",
       "    </tr>\n",
       "  </tbody>\n",
       "</table>\n",
       "</div>"
      ],
      "text/plain": [
       "                   b         c         d\n",
       "2013-01-01  0.828343  1.655891  1.192120\n",
       "2013-01-03  0.051640 -0.420144 -0.716718\n",
       "2013-01-04 -0.009558 -0.418478  0.979505"
      ]
     },
     "execution_count": 22,
     "metadata": {},
     "output_type": "execute_result"
    }
   ],
   "source": [
    "df.iloc[[0,2,3],[1,2,3]]"
   ]
  },
  {
   "cell_type": "code",
   "execution_count": 23,
   "metadata": {
    "collapsed": false
   },
   "outputs": [
    {
     "name": "stdout",
     "output_type": "stream",
     "text": [
      "   A  B  C  D\n",
      "0  1  2  0  1\n",
      "1  1  2  1  2\n",
      "2  1  2  2  2\n",
      "3  1  2  3  2\n"
     ]
    }
   ],
   "source": [
    "print df2"
   ]
  },
  {
   "cell_type": "code",
   "execution_count": 29,
   "metadata": {
    "collapsed": false
   },
   "outputs": [
    {
     "name": "stdout",
     "output_type": "stream",
     "text": [
      "     B  C\n",
      "A D      \n",
      "1 1  2  0\n",
      "  2  2  2\n"
     ]
    }
   ],
   "source": [
    "table=pd.pivot_table(df2,index=['A','D'])\n",
    "print table"
   ]
  },
  {
   "cell_type": "code",
   "execution_count": 31,
   "metadata": {
    "collapsed": false
   },
   "outputs": [
    {
     "data": {
      "text/html": [
       "<div>\n",
       "<table border=\"1\" class=\"dataframe\">\n",
       "  <thead>\n",
       "    <tr style=\"text-align: right;\">\n",
       "      <th></th>\n",
       "      <th></th>\n",
       "      <th>C</th>\n",
       "    </tr>\n",
       "    <tr>\n",
       "      <th>A</th>\n",
       "      <th>B</th>\n",
       "      <th></th>\n",
       "    </tr>\n",
       "  </thead>\n",
       "  <tbody>\n",
       "    <tr>\n",
       "      <th>1</th>\n",
       "      <th>2</th>\n",
       "      <td>1.5</td>\n",
       "    </tr>\n",
       "  </tbody>\n",
       "</table>\n",
       "</div>"
      ],
      "text/plain": [
       "       C\n",
       "A B     \n",
       "1 2  1.5"
      ]
     },
     "execution_count": 31,
     "metadata": {},
     "output_type": "execute_result"
    }
   ],
   "source": [
    "pd.pivot_table(df2,index=['A','B'],values=['C'])"
   ]
  },
  {
   "cell_type": "code",
   "execution_count": null,
   "metadata": {
    "collapsed": true
   },
   "outputs": [],
   "source": []
  }
 ],
 "metadata": {
  "kernelspec": {
   "display_name": "Python 2",
   "language": "python",
   "name": "python2"
  },
  "language_info": {
   "codemirror_mode": {
    "name": "ipython",
    "version": 2
   },
   "file_extension": ".py",
   "mimetype": "text/x-python",
   "name": "python",
   "nbconvert_exporter": "python",
   "pygments_lexer": "ipython2",
   "version": "2.7.11"
  }
 },
 "nbformat": 4,
 "nbformat_minor": 1
}
