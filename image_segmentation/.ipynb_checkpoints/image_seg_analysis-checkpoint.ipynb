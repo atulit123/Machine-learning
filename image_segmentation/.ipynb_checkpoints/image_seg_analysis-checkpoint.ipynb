{
 "cells": [
  {
   "cell_type": "code",
   "execution_count": 3,
   "metadata": {
    "collapsed": false
   },
   "outputs": [
    {
     "name": "stdout",
     "output_type": "stream",
     "text": [
      "[u'GRASS', u'110.0', u'189.0', u'9', u'0.0', u'0.0', u'1.0000004', u'0.66666675', u'1.2222223', u'1.1863422', u'12.925926', u'10.888889', u'9.222222', u'18.666668', u'-6.111111', u'-11.111111', u'17.222221', u'18.666668', u'0.50813884', u'1.9108642']\n"
     ]
    }
   ],
   "source": [
    "import unicodecsv\n",
    "with open('image_seg_train.csv') as f:\n",
    "    reader=unicodecsv.reader(f)\n",
    "    data=list(reader)\n",
    "print data[0]"
   ]
  },
  {
   "cell_type": "code",
   "execution_count": 4,
   "metadata": {
    "collapsed": false
   },
   "outputs": [
    {
     "name": "stdout",
     "output_type": "stream",
     "text": [
      "[u'BRICKFACE', u'140.0', u'125.0', u'9', u'0.0', u'0.0', u'0.2777779', u'0.06296301', u'0.66666675', u'0.31111118', u'6.185185', u'7.3333335', u'7.6666665', u'3.5555556', u'3.4444444', u'4.4444447', u'-7.888889', u'7.7777777', u'0.5456349', u'-1.1218182']\n"
     ]
    }
   ],
   "source": [
    "#testing data\n",
    "with open('image_seg_test.csv') as f:\n",
    "    reader=unicodecsv.reader(f)\n",
    "    data_test=list(reader)\n",
    "print data_test[0]"
   ]
  },
  {
   "cell_type": "code",
   "execution_count": 25,
   "metadata": {
    "collapsed": false
   },
   "outputs": [
    {
     "name": "stdout",
     "output_type": "stream",
     "text": [
      "[ 110.          189.            9.            0.            0.            1.0000004\n",
      "    0.66666675    1.2222223     1.1863422    12.925926     10.888889\n",
      "    9.222222     18.666668     -6.111111    -11.111111     17.222221\n",
      "   18.666668      0.50813884    1.9108642 ]\n",
      "GRASS\n"
     ]
    }
   ],
   "source": [
    "import numpy as np\n",
    "data=np.array(data)\n",
    "data_test=np.array(data_test)\n",
    "y_train=np.array(data[:,0])\n",
    "y_test=np.array(data_test[:,0])\n",
    "X_train=np.array(data[:,1:],dtype=float)\n",
    "X_test=np.array(data_test[:,1:],dtype=float)\n",
    "print X_train[0]\n",
    "print y_train[0]"
   ]
  },
  {
   "cell_type": "code",
   "execution_count": 28,
   "metadata": {
    "collapsed": false
   },
   "outputs": [
    {
     "name": "stdout",
     "output_type": "stream",
     "text": [
      "[u'BRICKFACE', u'CEMENT', u'FOLIAGE', u'GRASS', u'PATH', u'SKY', u'WINDOW']\n",
      "[0 1 2 3 4 5 6]\n"
     ]
    }
   ],
   "source": [
    "##using lable encoder from sklearn\n",
    "from sklearn.preprocessing import LabelEncoder\n",
    "le=LabelEncoder()\n",
    "le.fit(y_train)\n",
    "print list(le.classes_)\n",
    "print le.transform(le.classes_)"
   ]
  },
  {
   "cell_type": "code",
   "execution_count": 29,
   "metadata": {
    "collapsed": false
   },
   "outputs": [
    {
     "name": "stdout",
     "output_type": "stream",
     "text": [
      "[3 3 3 3 3 3 3 3 3 3 3 3 3 3 3 3 3 3 3 3]\n"
     ]
    }
   ],
   "source": [
    "#transforming the labels\n",
    "y_train=le.transform(y_train)\n",
    "y_test=le.transform(y_test)\n",
    "print y_train[:20]"
   ]
  },
  {
   "cell_type": "code",
   "execution_count": 30,
   "metadata": {
    "collapsed": true
   },
   "outputs": [],
   "source": [
    "X_train_pca=X_train\n",
    "X_test_pca=X_test"
   ]
  },
  {
   "cell_type": "code",
   "execution_count": 52,
   "metadata": {
    "collapsed": false
   },
   "outputs": [
    {
     "data": {
      "text/plain": [
       "array([ 0.4171365 ,  0.24216705])"
      ]
     },
     "execution_count": 52,
     "metadata": {},
     "output_type": "execute_result"
    }
   ],
   "source": [
    "#principal component analysis\n",
    "from sklearn.decomposition import PCA\n",
    "pca=PCA(n_components=2).fit(X_train)\n",
    "X_train_pca=pca.transform(X_train)\n",
    "X_test_pca=pca.transform(X_test)\n",
    "pca.explained_variance_ratio_"
   ]
  },
  {
   "cell_type": "code",
   "execution_count": 53,
   "metadata": {
    "collapsed": false
   },
   "outputs": [
    {
     "data": {
      "image/png": "[encoded data removed]",
      "text/plain": [
       "<matplotlib.figure.Figure at 0x824aaf0>"
      ]
     },
     "metadata": {},
     "output_type": "display_data"
    }
   ],
   "source": [
    "from matplotlib import pyplot as plt\n",
    "plt.scatter(X_train_pca[:,0],X_train_pca[:,0],c=y_train,cmap=plt.cm.Paired)\n",
    "plt.show()"
   ]
  },
  {
   "cell_type": "code",
   "execution_count": 55,
   "metadata": {
    "collapsed": false
   },
   "outputs": [
    {
     "name": "stdout",
     "output_type": "stream",
     "text": [
      "training time 1.097 s\n",
      "Predicting time 0.035 s\n",
      "1.0\n"
     ]
    }
   ],
   "source": [
    "##building the classifier\n",
    "from sklearn.tree import DecisionTreeClassifier\n",
    "from sklearn.metrics import accuracy_score\n",
    "from sklearn.svm import SVC\n",
    "from sklearn.ensemble import AdaBoostClassifier\n",
    "from time import time\n",
    "clf=SVC(kernel=\"rbf\",gamma=0.1,C=1000)\n",
    "#clf=DecisionTreeClassifier(min_samples_split=5)\n",
    "#clf=AdaBoostClassifier( n_estimators=10)\n",
    "t0=time();\n",
    "clf.fit(X_train,y_train)\n",
    "print \"training time\",round(time()-t0,3),\"s\"\n",
    "t0=time()\n",
    "pred=clf.predict(X_test)\n",
    "print \"Predicting time\",round(time()-t0,3),\"s\"\n",
    "print clf.score(X_test,y_test)"
   ]
  },
  {
   "cell_type": "markdown",
   "metadata": {},
   "source": [
    "# accuray of 1.0 !"
   ]
  },
  {
   "cell_type": "code",
   "execution_count": null,
   "metadata": {
    "collapsed": true
   },
   "outputs": [],
   "source": []
  }
 ],
 "metadata": {
  "kernelspec": {
   "display_name": "Python 2",
   "language": "python",
   "name": "python2"
  },
  "language_info": {
   "codemirror_mode": {
    "name": "ipython",
    "version": 2
   },
   "file_extension": ".py",
   "mimetype": "text/x-python",
   "name": "python",
   "nbconvert_exporter": "python",
   "pygments_lexer": "ipython2",
   "version": "2.7.11"
  }
 },
 "nbformat": 4,
 "nbformat_minor": 1
}
